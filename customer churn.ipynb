{
 "cells": [
  {
   "cell_type": "code",
   "execution_count": 217,
   "id": "25ade4b3",
   "metadata": {},
   "outputs": [],
   "source": [
    "import numpy as np\n",
    "import numpy.matlib\n",
    "import pandas as pd\n",
    "import matplotlib.pyplot as plt\n",
    "import seaborn as sns\n",
    "%matplotlib inline"
   ]
  },
  {
   "cell_type": "code",
   "execution_count": 218,
   "id": "e059c144",
   "metadata": {},
   "outputs": [
    {
     "data": {
      "text/html": [
       "<div>\n",
       "<style scoped>\n",
       "    .dataframe tbody tr th:only-of-type {\n",
       "        vertical-align: middle;\n",
       "    }\n",
       "\n",
       "    .dataframe tbody tr th {\n",
       "        vertical-align: top;\n",
       "    }\n",
       "\n",
       "    .dataframe thead th {\n",
       "        text-align: right;\n",
       "    }\n",
       "</style>\n",
       "<table border=\"1\" class=\"dataframe\">\n",
       "  <thead>\n",
       "    <tr style=\"text-align: right;\">\n",
       "      <th></th>\n",
       "      <th>Age</th>\n",
       "      <th>FrequentFlyer</th>\n",
       "      <th>AnnualIncomeClass</th>\n",
       "      <th>ServicesOpted</th>\n",
       "      <th>AccountSyncedToSocialMedia</th>\n",
       "      <th>BookedHotelOrNot</th>\n",
       "      <th>Target</th>\n",
       "      <th>Churns</th>\n",
       "    </tr>\n",
       "  </thead>\n",
       "  <tbody>\n",
       "    <tr>\n",
       "      <th>0</th>\n",
       "      <td>34</td>\n",
       "      <td>No</td>\n",
       "      <td>Middle Income</td>\n",
       "      <td>6</td>\n",
       "      <td>No</td>\n",
       "      <td>Yes</td>\n",
       "      <td>0</td>\n",
       "      <td>No</td>\n",
       "    </tr>\n",
       "    <tr>\n",
       "      <th>1</th>\n",
       "      <td>34</td>\n",
       "      <td>Yes</td>\n",
       "      <td>Low Income</td>\n",
       "      <td>5</td>\n",
       "      <td>Yes</td>\n",
       "      <td>No</td>\n",
       "      <td>1</td>\n",
       "      <td>Yes</td>\n",
       "    </tr>\n",
       "    <tr>\n",
       "      <th>2</th>\n",
       "      <td>37</td>\n",
       "      <td>No</td>\n",
       "      <td>Middle Income</td>\n",
       "      <td>3</td>\n",
       "      <td>Yes</td>\n",
       "      <td>No</td>\n",
       "      <td>0</td>\n",
       "      <td>No</td>\n",
       "    </tr>\n",
       "    <tr>\n",
       "      <th>3</th>\n",
       "      <td>30</td>\n",
       "      <td>No</td>\n",
       "      <td>Middle Income</td>\n",
       "      <td>2</td>\n",
       "      <td>No</td>\n",
       "      <td>No</td>\n",
       "      <td>0</td>\n",
       "      <td>No</td>\n",
       "    </tr>\n",
       "    <tr>\n",
       "      <th>4</th>\n",
       "      <td>30</td>\n",
       "      <td>No</td>\n",
       "      <td>Low Income</td>\n",
       "      <td>1</td>\n",
       "      <td>No</td>\n",
       "      <td>No</td>\n",
       "      <td>0</td>\n",
       "      <td>No</td>\n",
       "    </tr>\n",
       "  </tbody>\n",
       "</table>\n",
       "</div>"
      ],
      "text/plain": [
       "   Age FrequentFlyer AnnualIncomeClass  ServicesOpted  \\\n",
       "0   34            No     Middle Income              6   \n",
       "1   34           Yes        Low Income              5   \n",
       "2   37            No     Middle Income              3   \n",
       "3   30            No     Middle Income              2   \n",
       "4   30            No        Low Income              1   \n",
       "\n",
       "  AccountSyncedToSocialMedia BookedHotelOrNot  Target Churns  \n",
       "0                         No              Yes       0     No  \n",
       "1                        Yes               No       1    Yes  \n",
       "2                        Yes               No       0     No  \n",
       "3                         No               No       0     No  \n",
       "4                         No               No       0     No  "
      ]
     },
     "execution_count": 218,
     "metadata": {},
     "output_type": "execute_result"
    }
   ],
   "source": [
    "data = pd.read_csv(\"Customertravel.csv\")\n",
    "#check data\n",
    "data.head(5)"
   ]
  },
  {
   "cell_type": "code",
   "execution_count": 158,
   "id": "83322b2c",
   "metadata": {},
   "outputs": [
    {
     "data": {
      "text/plain": [
       "Index(['Age', 'FrequentFlyer', 'AnnualIncomeClass', 'ServicesOpted',\n",
       "       'AccountSyncedToSocialMedia', 'BookedHotelOrNot', 'Target', 'Churns'],\n",
       "      dtype='object')"
      ]
     },
     "execution_count": 158,
     "metadata": {},
     "output_type": "execute_result"
    }
   ],
   "source": [
    "data.columns"
   ]
  },
  {
   "cell_type": "code",
   "execution_count": 159,
   "id": "d328a610",
   "metadata": {},
   "outputs": [
    {
     "data": {
      "text/plain": [
       "Age                            int64\n",
       "FrequentFlyer                 object\n",
       "AnnualIncomeClass             object\n",
       "ServicesOpted                  int64\n",
       "AccountSyncedToSocialMedia     int64\n",
       "BookedHotelOrNot               int64\n",
       "Target                         int64\n",
       "Churns                        object\n",
       "dtype: object"
      ]
     },
     "execution_count": 159,
     "metadata": {},
     "output_type": "execute_result"
    }
   ],
   "source": [
    "data.dtypes"
   ]
  },
  {
   "cell_type": "code",
   "execution_count": 161,
   "id": "eedaa2cd",
   "metadata": {},
   "outputs": [],
   "source": [
    "data1 = data[data.FrequentFlyer!='No Record']"
   ]
  },
  {
   "cell_type": "code",
   "execution_count": 45,
   "id": "96750dcd",
   "metadata": {},
   "outputs": [
    {
     "data": {
      "text/plain": [
       "<matplotlib.legend.Legend at 0x1c08b156e20>"
      ]
     },
     "execution_count": 45,
     "metadata": {},
     "output_type": "execute_result"
    },
    {
     "data": {
      "image/png": "[encoded data removed]",
      "text/plain": [
       "<Figure size 432x288 with 1 Axes>"
      ]
     },
     "metadata": {
      "needs_background": "light"
     },
     "output_type": "display_data"
    }
   ],
   "source": [
    "#find customer still live\n",
    "ServicesOpted_churn_no = data[data.Churns =='No'].ServicesOpted\n",
    "ServicesOpted_churn_yes = data[data.Churns =='Yes'].ServicesOpted\n",
    "\n",
    "plt.hist([ServicesOpted_churn_no, ServicesOpted_churn_yes], \n",
    "         color = ['green', 'red'],\n",
    "         label = ['Churn = No','Churn = Yes'])\n",
    "plt.legend()"
   ]
  },
  {
   "cell_type": "code",
   "execution_count": 162,
   "id": "ef59bbc3",
   "metadata": {},
   "outputs": [],
   "source": [
    "def print_unique_col_values(data):\n",
    "    for column in data:\n",
    "        if data[column].dtypes=='object':\n",
    "            print(f'{column} : {data[column].unique()}')\n"
   ]
  },
  {
   "cell_type": "code",
   "execution_count": 163,
   "id": "f27b52d5",
   "metadata": {},
   "outputs": [
    {
     "name": "stdout",
     "output_type": "stream",
     "text": [
      "FrequentFlyer : ['No' 'Yes']\n",
      "AnnualIncomeClass : ['Middle Income' 'Low Income' 'High Income']\n",
      "AccountSyncedToSocialMedia : ['No' 'Yes']\n",
      "BookedHotelOrNot : ['Yes' 'No']\n",
      "Churns : ['No' 'Yes']\n"
     ]
    }
   ],
   "source": [
    "print_unique_col_values(data1)"
   ]
  },
  {
   "cell_type": "code",
   "execution_count": 164,
   "id": "f670ada7",
   "metadata": {},
   "outputs": [
    {
     "name": "stderr",
     "output_type": "stream",
     "text": [
      "C:\\Users\\atjim\\anaconda3\\lib\\site-packages\\pandas\\core\\series.py:4509: SettingWithCopyWarning: \n",
      "A value is trying to be set on a copy of a slice from a DataFrame\n",
      "\n",
      "See the caveats in the documentation: https://pandas.pydata.org/pandas-docs/stable/user_guide/indexing.html#returning-a-view-versus-a-copy\n",
      "  return super().replace(\n"
     ]
    }
   ],
   "source": [
    "yes_no_columns = ['FrequentFlyer','AccountSyncedToSocialMedia','BookedHotelOrNot','Churns']\n",
    "\n",
    "for col in yes_no_columns:\n",
    "    data1[col].replace({'Yes':1,'No':0}, inplace = True)"
   ]
  },
  {
   "cell_type": "code",
   "execution_count": 165,
   "id": "1ab11db1",
   "metadata": {},
   "outputs": [
    {
     "name": "stdout",
     "output_type": "stream",
     "text": [
      "Age : [34 37 30 27 36 28 31 38 33 35 29]\n",
      "FrequentFlyer : [0 1]\n",
      "AnnualIncomeClass : ['Middle Income' 'Low Income' 'High Income']\n",
      "ServicesOpted : [6 5 3 2 1 4]\n",
      "AccountSyncedToSocialMedia : [0 1]\n",
      "BookedHotelOrNot : [1 0]\n",
      "Target : [0 1]\n",
      "Churns : [0 1]\n"
     ]
    }
   ],
   "source": [
    "for column in data1:\n",
    "    print(f'{column} : {data1[column].unique()}')\n"
   ]
  },
  {
   "cell_type": "code",
   "execution_count": 173,
   "id": "4504030d",
   "metadata": {},
   "outputs": [
    {
     "data": {
      "text/plain": [
       "Index(['Age', 'FrequentFlyer', 'ServicesOpted', 'AccountSyncedToSocialMedia',\n",
       "       'BookedHotelOrNot', 'Target', 'Churns', 'AnnualIncomeClass_High Income',\n",
       "       'AnnualIncomeClass_Low Income', 'AnnualIncomeClass_Middle Income'],\n",
       "      dtype='object')"
      ]
     },
     "execution_count": 173,
     "metadata": {},
     "output_type": "execute_result"
    }
   ],
   "source": [
    "data2 = pd.get_dummies(data=data1, columns=['AnnualIncomeClass'])\n",
    "data2.columns"
   ]
  },
  {
   "cell_type": "code",
   "execution_count": 174,
   "id": "f33d247d",
   "metadata": {
    "scrolled": true
   },
   "outputs": [
    {
     "data": {
      "text/html": [
       "<div>\n",
       "<style scoped>\n",
       "    .dataframe tbody tr th:only-of-type {\n",
       "        vertical-align: middle;\n",
       "    }\n",
       "\n",
       "    .dataframe tbody tr th {\n",
       "        vertical-align: top;\n",
       "    }\n",
       "\n",
       "    .dataframe thead th {\n",
       "        text-align: right;\n",
       "    }\n",
       "</style>\n",
       "<table border=\"1\" class=\"dataframe\">\n",
       "  <thead>\n",
       "    <tr style=\"text-align: right;\">\n",
       "      <th></th>\n",
       "      <th>Age</th>\n",
       "      <th>FrequentFlyer</th>\n",
       "      <th>ServicesOpted</th>\n",
       "      <th>AccountSyncedToSocialMedia</th>\n",
       "      <th>BookedHotelOrNot</th>\n",
       "      <th>Target</th>\n",
       "      <th>Churns</th>\n",
       "      <th>AnnualIncomeClass_High Income</th>\n",
       "      <th>AnnualIncomeClass_Low Income</th>\n",
       "      <th>AnnualIncomeClass_Middle Income</th>\n",
       "    </tr>\n",
       "  </thead>\n",
       "  <tbody>\n",
       "    <tr>\n",
       "      <th>15</th>\n",
       "      <td>37</td>\n",
       "      <td>1</td>\n",
       "      <td>6</td>\n",
       "      <td>0</td>\n",
       "      <td>1</td>\n",
       "      <td>0</td>\n",
       "      <td>0</td>\n",
       "      <td>0</td>\n",
       "      <td>1</td>\n",
       "      <td>0</td>\n",
       "    </tr>\n",
       "    <tr>\n",
       "      <th>412</th>\n",
       "      <td>30</td>\n",
       "      <td>0</td>\n",
       "      <td>4</td>\n",
       "      <td>1</td>\n",
       "      <td>0</td>\n",
       "      <td>0</td>\n",
       "      <td>0</td>\n",
       "      <td>0</td>\n",
       "      <td>1</td>\n",
       "      <td>0</td>\n",
       "    </tr>\n",
       "  </tbody>\n",
       "</table>\n",
       "</div>"
      ],
      "text/plain": [
       "     Age  FrequentFlyer  ServicesOpted  AccountSyncedToSocialMedia  \\\n",
       "15    37              1              6                           0   \n",
       "412   30              0              4                           1   \n",
       "\n",
       "     BookedHotelOrNot  Target  Churns  AnnualIncomeClass_High Income  \\\n",
       "15                  1       0       0                              0   \n",
       "412                 0       0       0                              0   \n",
       "\n",
       "     AnnualIncomeClass_Low Income  AnnualIncomeClass_Middle Income  \n",
       "15                              1                                0  \n",
       "412                             1                                0  "
      ]
     },
     "execution_count": 174,
     "metadata": {},
     "output_type": "execute_result"
    }
   ],
   "source": [
    "data2.sample(2)"
   ]
  },
  {
   "cell_type": "code",
   "execution_count": 176,
   "id": "f6eb06b4",
   "metadata": {},
   "outputs": [
    {
     "data": {
      "text/plain": [
       "Age                                int64\n",
       "FrequentFlyer                      int64\n",
       "ServicesOpted                      int64\n",
       "AccountSyncedToSocialMedia         int64\n",
       "BookedHotelOrNot                   int64\n",
       "Target                             int64\n",
       "Churns                             int64\n",
       "AnnualIncomeClass_High Income      uint8\n",
       "AnnualIncomeClass_Low Income       uint8\n",
       "AnnualIncomeClass_Middle Income    uint8\n",
       "dtype: object"
      ]
     },
     "execution_count": 176,
     "metadata": {},
     "output_type": "execute_result"
    }
   ],
   "source": [
    "data2.dtypes"
   ]
  },
  {
   "cell_type": "code",
   "execution_count": 178,
   "id": "5a9240db",
   "metadata": {},
   "outputs": [],
   "source": [
    "cols_to_scale = ['Age']\n",
    "\n",
    "from sklearn.preprocessing import MinMaxScaler\n",
    "scaler = MinMaxScaler()\n",
    "\n",
    "data2[cols_to_scale] = scaler.fit_transform(data2[cols_to_scale])"
   ]
  },
  {
   "cell_type": "code",
   "execution_count": 183,
   "id": "effd8c8a",
   "metadata": {},
   "outputs": [
    {
     "data": {
      "text/html": [
       "<div>\n",
       "<style scoped>\n",
       "    .dataframe tbody tr th:only-of-type {\n",
       "        vertical-align: middle;\n",
       "    }\n",
       "\n",
       "    .dataframe tbody tr th {\n",
       "        vertical-align: top;\n",
       "    }\n",
       "\n",
       "    .dataframe thead th {\n",
       "        text-align: right;\n",
       "    }\n",
       "</style>\n",
       "<table border=\"1\" class=\"dataframe\">\n",
       "  <thead>\n",
       "    <tr style=\"text-align: right;\">\n",
       "      <th></th>\n",
       "      <th>Age</th>\n",
       "      <th>FrequentFlyer</th>\n",
       "      <th>ServicesOpted</th>\n",
       "      <th>AccountSyncedToSocialMedia</th>\n",
       "      <th>BookedHotelOrNot</th>\n",
       "      <th>Target</th>\n",
       "      <th>Churns</th>\n",
       "      <th>AnnualIncomeClass_High Income</th>\n",
       "      <th>AnnualIncomeClass_Low Income</th>\n",
       "      <th>AnnualIncomeClass_Middle Income</th>\n",
       "    </tr>\n",
       "  </thead>\n",
       "  <tbody>\n",
       "    <tr>\n",
       "      <th>840</th>\n",
       "      <td>0.272727</td>\n",
       "      <td>0</td>\n",
       "      <td>6</td>\n",
       "      <td>0</td>\n",
       "      <td>1</td>\n",
       "      <td>0</td>\n",
       "      <td>0</td>\n",
       "      <td>0</td>\n",
       "      <td>0</td>\n",
       "      <td>1</td>\n",
       "    </tr>\n",
       "    <tr>\n",
       "      <th>923</th>\n",
       "      <td>0.272727</td>\n",
       "      <td>0</td>\n",
       "      <td>4</td>\n",
       "      <td>0</td>\n",
       "      <td>0</td>\n",
       "      <td>0</td>\n",
       "      <td>0</td>\n",
       "      <td>0</td>\n",
       "      <td>0</td>\n",
       "      <td>1</td>\n",
       "    </tr>\n",
       "    <tr>\n",
       "      <th>953</th>\n",
       "      <td>0.363636</td>\n",
       "      <td>1</td>\n",
       "      <td>1</td>\n",
       "      <td>0</td>\n",
       "      <td>0</td>\n",
       "      <td>0</td>\n",
       "      <td>0</td>\n",
       "      <td>1</td>\n",
       "      <td>0</td>\n",
       "      <td>0</td>\n",
       "    </tr>\n",
       "    <tr>\n",
       "      <th>472</th>\n",
       "      <td>0.272727</td>\n",
       "      <td>0</td>\n",
       "      <td>1</td>\n",
       "      <td>1</td>\n",
       "      <td>1</td>\n",
       "      <td>0</td>\n",
       "      <td>0</td>\n",
       "      <td>0</td>\n",
       "      <td>1</td>\n",
       "      <td>0</td>\n",
       "    </tr>\n",
       "    <tr>\n",
       "      <th>574</th>\n",
       "      <td>0.363636</td>\n",
       "      <td>0</td>\n",
       "      <td>1</td>\n",
       "      <td>0</td>\n",
       "      <td>0</td>\n",
       "      <td>0</td>\n",
       "      <td>0</td>\n",
       "      <td>0</td>\n",
       "      <td>1</td>\n",
       "      <td>0</td>\n",
       "    </tr>\n",
       "  </tbody>\n",
       "</table>\n",
       "</div>"
      ],
      "text/plain": [
       "          Age  FrequentFlyer  ServicesOpted  AccountSyncedToSocialMedia  \\\n",
       "840  0.272727              0              6                           0   \n",
       "923  0.272727              0              4                           0   \n",
       "953  0.363636              1              1                           0   \n",
       "472  0.272727              0              1                           1   \n",
       "574  0.363636              0              1                           0   \n",
       "\n",
       "     BookedHotelOrNot  Target  Churns  AnnualIncomeClass_High Income  \\\n",
       "840                 1       0       0                              0   \n",
       "923                 0       0       0                              0   \n",
       "953                 0       0       0                              1   \n",
       "472                 1       0       0                              0   \n",
       "574                 0       0       0                              0   \n",
       "\n",
       "     AnnualIncomeClass_Low Income  AnnualIncomeClass_Middle Income  \n",
       "840                             0                                1  \n",
       "923                             0                                1  \n",
       "953                             0                                0  \n",
       "472                             1                                0  \n",
       "574                             1                                0  "
      ]
     },
     "execution_count": 183,
     "metadata": {},
     "output_type": "execute_result"
    }
   ],
   "source": [
    "data2.sample(5)"
   ]
  },
  {
   "cell_type": "code",
   "execution_count": 181,
   "id": "7681c0aa",
   "metadata": {},
   "outputs": [
    {
     "name": "stdout",
     "output_type": "stream",
     "text": [
      "Age : [0.63636364 0.90909091 0.27272727 0.         0.81818182 0.09090909\n",
      " 0.36363636 1.         0.54545455 0.72727273 0.18181818]\n",
      "FrequentFlyer : [0 1]\n",
      "ServicesOpted : [6 5 3 2 1 4]\n",
      "AccountSyncedToSocialMedia : [0 1]\n",
      "BookedHotelOrNot : [1 0]\n",
      "Target : [0 1]\n",
      "Churns : [0 1]\n",
      "AnnualIncomeClass_High Income : [0 1]\n",
      "AnnualIncomeClass_Low Income : [0 1]\n",
      "AnnualIncomeClass_Middle Income : [1 0]\n"
     ]
    }
   ],
   "source": [
    "for column in data2:\n",
    "    print(f'{column} : {data2[column].unique()}')"
   ]
  },
  {
   "cell_type": "code",
   "execution_count": 184,
   "id": "88a21e79",
   "metadata": {},
   "outputs": [],
   "source": [
    "x = data2.drop('Churns', axis = 'columns')\n",
    "y = data2['Churns']"
   ]
  },
  {
   "cell_type": "code",
   "execution_count": 187,
   "id": "b155b48c",
   "metadata": {},
   "outputs": [],
   "source": [
    "from sklearn.model_selection import train_test_split\n",
    "x_train, x_test, y_train, y_test = train_test_split(x, y, test_size = 0.2, random_state = 5)"
   ]
  },
  {
   "cell_type": "code",
   "execution_count": 188,
   "id": "aacad299",
   "metadata": {},
   "outputs": [
    {
     "data": {
      "text/plain": [
       "(715, 9)"
      ]
     },
     "execution_count": 188,
     "metadata": {},
     "output_type": "execute_result"
    }
   ],
   "source": [
    "x_train.shape"
   ]
  },
  {
   "cell_type": "code",
   "execution_count": 190,
   "id": "0c47f9cb",
   "metadata": {},
   "outputs": [
    {
     "data": {
      "text/plain": [
       "(179, 9)"
      ]
     },
     "execution_count": 190,
     "metadata": {},
     "output_type": "execute_result"
    }
   ],
   "source": [
    "x_test.shape"
   ]
  },
  {
   "cell_type": "code",
   "execution_count": 195,
   "id": "17a90cd9",
   "metadata": {},
   "outputs": [
    {
     "data": {
      "text/plain": [
       "9"
      ]
     },
     "execution_count": 195,
     "metadata": {},
     "output_type": "execute_result"
    }
   ],
   "source": [
    "len(x_train.columns)"
   ]
  },
  {
   "cell_type": "code",
   "execution_count": 209,
   "id": "bcec6bcd",
   "metadata": {},
   "outputs": [
    {
     "name": "stdout",
     "output_type": "stream",
     "text": [
      "Epoch 1/100\n",
      "23/23 [==============================] - 0s 1ms/step - loss: 0.6680 - accuracy: 0.7245\n",
      "Epoch 2/100\n",
      "23/23 [==============================] - 0s 714us/step - loss: 0.6311 - accuracy: 0.7664\n",
      "Epoch 3/100\n",
      "23/23 [==============================] - 0s 696us/step - loss: 0.5973 - accuracy: 0.7818\n",
      "Epoch 4/100\n",
      "23/23 [==============================] - 0s 714us/step - loss: 0.5643 - accuracy: 0.7860\n",
      "Epoch 5/100\n",
      "23/23 [==============================] - 0s 739us/step - loss: 0.5304 - accuracy: 0.7944\n",
      "Epoch 6/100\n",
      "23/23 [==============================] - 0s 739us/step - loss: 0.4913 - accuracy: 0.8098\n",
      "Epoch 7/100\n",
      "23/23 [==============================] - 0s 739us/step - loss: 0.4508 - accuracy: 0.8336\n",
      "Epoch 8/100\n",
      "23/23 [==============================] - 0s 739us/step - loss: 0.4106 - accuracy: 0.8615\n",
      "Epoch 9/100\n",
      "23/23 [==============================] - 0s 739us/step - loss: 0.3722 - accuracy: 0.8643\n",
      "Epoch 10/100\n",
      "23/23 [==============================] - 0s 739us/step - loss: 0.3337 - accuracy: 0.8769\n",
      "Epoch 11/100\n",
      "23/23 [==============================] - 0s 782us/step - loss: 0.2946 - accuracy: 0.9105\n",
      "Epoch 12/100\n",
      "23/23 [==============================] - 0s 826us/step - loss: 0.2561 - accuracy: 0.9385\n",
      "Epoch 13/100\n",
      "23/23 [==============================] - 0s 1ms/step - loss: 0.2228 - accuracy: 0.9594\n",
      "Epoch 14/100\n",
      "23/23 [==============================] - 0s 739us/step - loss: 0.1949 - accuracy: 0.9678\n",
      "Epoch 15/100\n",
      "23/23 [==============================] - 0s 695us/step - loss: 0.1727 - accuracy: 0.9706\n",
      "Epoch 16/100\n",
      "23/23 [==============================] - 0s 739us/step - loss: 0.1544 - accuracy: 0.9762\n",
      "Epoch 17/100\n",
      "23/23 [==============================] - 0s 696us/step - loss: 0.1392 - accuracy: 0.9832\n",
      "Epoch 18/100\n",
      "23/23 [==============================] - 0s 695us/step - loss: 0.1252 - accuracy: 0.9846\n",
      "Epoch 19/100\n",
      "23/23 [==============================] - 0s 739us/step - loss: 0.1127 - accuracy: 0.9874\n",
      "Epoch 20/100\n",
      "23/23 [==============================] - 0s 782us/step - loss: 0.1020 - accuracy: 0.9916\n",
      "Epoch 21/100\n",
      "23/23 [==============================] - 0s 695us/step - loss: 0.0923 - accuracy: 0.9944\n",
      "Epoch 22/100\n",
      "23/23 [==============================] - 0s 739us/step - loss: 0.0842 - accuracy: 0.9958\n",
      "Epoch 23/100\n",
      "23/23 [==============================] - 0s 695us/step - loss: 0.0768 - accuracy: 0.9958\n",
      "Epoch 24/100\n",
      "23/23 [==============================] - 0s 739us/step - loss: 0.0705 - accuracy: 1.0000\n",
      "Epoch 25/100\n",
      "23/23 [==============================] - 0s 695us/step - loss: 0.0646 - accuracy: 1.0000\n",
      "Epoch 26/100\n",
      "23/23 [==============================] - 0s 652us/step - loss: 0.0597 - accuracy: 1.0000\n",
      "Epoch 27/100\n",
      "23/23 [==============================] - 0s 652us/step - loss: 0.0549 - accuracy: 1.0000\n",
      "Epoch 28/100\n",
      "23/23 [==============================] - 0s 695us/step - loss: 0.0510 - accuracy: 1.0000\n",
      "Epoch 29/100\n",
      "23/23 [==============================] - 0s 695us/step - loss: 0.0472 - accuracy: 1.0000\n",
      "Epoch 30/100\n",
      "23/23 [==============================] - 0s 695us/step - loss: 0.0437 - accuracy: 1.0000\n",
      "Epoch 31/100\n",
      "23/23 [==============================] - 0s 782us/step - loss: 0.0406 - accuracy: 1.0000\n",
      "Epoch 32/100\n",
      "23/23 [==============================] - 0s 826us/step - loss: 0.0378 - accuracy: 1.0000\n",
      "Epoch 33/100\n",
      "23/23 [==============================] - 0s 695us/step - loss: 0.0353 - accuracy: 1.0000\n",
      "Epoch 34/100\n",
      "23/23 [==============================] - 0s 652us/step - loss: 0.0329 - accuracy: 1.0000\n",
      "Epoch 35/100\n",
      "23/23 [==============================] - 0s 652us/step - loss: 0.0308 - accuracy: 1.0000\n",
      "Epoch 36/100\n",
      "23/23 [==============================] - 0s 739us/step - loss: 0.0289 - accuracy: 1.0000\n",
      "Epoch 37/100\n",
      "23/23 [==============================] - 0s 739us/step - loss: 0.0271 - accuracy: 1.0000\n",
      "Epoch 38/100\n",
      "23/23 [==============================] - 0s 739us/step - loss: 0.0255 - accuracy: 1.0000\n",
      "Epoch 39/100\n",
      "23/23 [==============================] - 0s 739us/step - loss: 0.0240 - accuracy: 1.0000\n",
      "Epoch 40/100\n",
      "23/23 [==============================] - 0s 739us/step - loss: 0.0226 - accuracy: 1.0000\n",
      "Epoch 41/100\n",
      "23/23 [==============================] - 0s 695us/step - loss: 0.0213 - accuracy: 1.0000\n",
      "Epoch 42/100\n",
      "23/23 [==============================] - 0s 695us/step - loss: 0.0202 - accuracy: 1.0000\n",
      "Epoch 43/100\n",
      "23/23 [==============================] - 0s 739us/step - loss: 0.0191 - accuracy: 1.0000\n",
      "Epoch 44/100\n",
      "23/23 [==============================] - 0s 695us/step - loss: 0.0181 - accuracy: 1.0000\n",
      "Epoch 45/100\n",
      "23/23 [==============================] - 0s 695us/step - loss: 0.0171 - accuracy: 1.0000\n",
      "Epoch 46/100\n",
      "23/23 [==============================] - 0s 652us/step - loss: 0.0163 - accuracy: 1.0000\n",
      "Epoch 47/100\n",
      "23/23 [==============================] - 0s 652us/step - loss: 0.0155 - accuracy: 1.0000\n",
      "Epoch 48/100\n",
      "23/23 [==============================] - 0s 739us/step - loss: 0.0147 - accuracy: 1.0000\n",
      "Epoch 49/100\n",
      "23/23 [==============================] - 0s 695us/step - loss: 0.0140 - accuracy: 1.0000\n",
      "Epoch 50/100\n",
      "23/23 [==============================] - 0s 739us/step - loss: 0.0133 - accuracy: 1.0000\n",
      "Epoch 51/100\n",
      "23/23 [==============================] - 0s 695us/step - loss: 0.0127 - accuracy: 1.0000\n",
      "Epoch 52/100\n",
      "23/23 [==============================] - 0s 652us/step - loss: 0.0121 - accuracy: 1.0000\n",
      "Epoch 53/100\n",
      "23/23 [==============================] - 0s 565us/step - loss: 0.0116 - accuracy: 1.0000\n",
      "Epoch 54/100\n",
      "23/23 [==============================] - 0s 609us/step - loss: 0.0111 - accuracy: 1.0000\n",
      "Epoch 55/100\n",
      "23/23 [==============================] - 0s 869us/step - loss: 0.0106 - accuracy: 1.0000\n",
      "Epoch 56/100\n",
      "23/23 [==============================] - 0s 695us/step - loss: 0.0101 - accuracy: 1.0000\n",
      "Epoch 57/100\n",
      "23/23 [==============================] - 0s 739us/step - loss: 0.0097 - accuracy: 1.0000\n",
      "Epoch 58/100\n",
      "23/23 [==============================] - 0s 652us/step - loss: 0.0093 - accuracy: 1.0000\n",
      "Epoch 59/100\n",
      "23/23 [==============================] - 0s 695us/step - loss: 0.0089 - accuracy: 1.0000\n",
      "Epoch 60/100\n",
      "23/23 [==============================] - 0s 652us/step - loss: 0.0086 - accuracy: 1.0000\n",
      "Epoch 61/100\n",
      "23/23 [==============================] - 0s 652us/step - loss: 0.0082 - accuracy: 1.0000\n",
      "Epoch 62/100\n",
      "23/23 [==============================] - 0s 652us/step - loss: 0.0079 - accuracy: 1.0000\n",
      "Epoch 63/100\n",
      "23/23 [==============================] - 0s 652us/step - loss: 0.0076 - accuracy: 1.0000\n",
      "Epoch 64/100\n",
      "23/23 [==============================] - 0s 652us/step - loss: 0.0073 - accuracy: 1.0000\n",
      "Epoch 65/100\n",
      "23/23 [==============================] - 0s 739us/step - loss: 0.0071 - accuracy: 1.0000\n",
      "Epoch 66/100\n",
      "23/23 [==============================] - 0s 695us/step - loss: 0.0068 - accuracy: 1.0000\n",
      "Epoch 67/100\n",
      "23/23 [==============================] - 0s 652us/step - loss: 0.0066 - accuracy: 1.0000\n",
      "Epoch 68/100\n",
      "23/23 [==============================] - 0s 695us/step - loss: 0.0063 - accuracy: 1.0000\n",
      "Epoch 69/100\n",
      "23/23 [==============================] - 0s 695us/step - loss: 0.0061 - accuracy: 1.0000\n",
      "Epoch 70/100\n",
      "23/23 [==============================] - 0s 695us/step - loss: 0.0059 - accuracy: 1.0000\n",
      "Epoch 71/100\n",
      "23/23 [==============================] - 0s 652us/step - loss: 0.0057 - accuracy: 1.0000\n",
      "Epoch 72/100\n",
      "23/23 [==============================] - 0s 739us/step - loss: 0.0055 - accuracy: 1.0000\n",
      "Epoch 73/100\n",
      "23/23 [==============================] - 0s 652us/step - loss: 0.0053 - accuracy: 1.0000\n",
      "Epoch 74/100\n",
      "23/23 [==============================] - 0s 695us/step - loss: 0.0052 - accuracy: 1.0000\n",
      "Epoch 75/100\n",
      "23/23 [==============================] - 0s 695us/step - loss: 0.0050 - accuracy: 1.0000\n",
      "Epoch 76/100\n",
      "23/23 [==============================] - 0s 744us/step - loss: 0.0048 - accuracy: 1.0000\n",
      "Epoch 77/100\n",
      "23/23 [==============================] - 0s 695us/step - loss: 0.0047 - accuracy: 1.0000\n",
      "Epoch 78/100\n",
      "23/23 [==============================] - 0s 695us/step - loss: 0.0045 - accuracy: 1.0000\n",
      "Epoch 79/100\n",
      "23/23 [==============================] - 0s 695us/step - loss: 0.0044 - accuracy: 1.0000\n",
      "Epoch 80/100\n",
      "23/23 [==============================] - 0s 652us/step - loss: 0.0043 - accuracy: 1.0000\n",
      "Epoch 81/100\n"
     ]
    },
    {
     "name": "stdout",
     "output_type": "stream",
     "text": [
      "23/23 [==============================] - 0s 652us/step - loss: 0.0041 - accuracy: 1.0000\n",
      "Epoch 82/100\n",
      "23/23 [==============================] - 0s 652us/step - loss: 0.0040 - accuracy: 1.0000\n",
      "Epoch 83/100\n",
      "23/23 [==============================] - 0s 652us/step - loss: 0.0039 - accuracy: 1.0000\n",
      "Epoch 84/100\n",
      "23/23 [==============================] - 0s 695us/step - loss: 0.0038 - accuracy: 1.0000\n",
      "Epoch 85/100\n",
      "23/23 [==============================] - 0s 652us/step - loss: 0.0037 - accuracy: 1.0000\n",
      "Epoch 86/100\n",
      "23/23 [==============================] - 0s 608us/step - loss: 0.0036 - accuracy: 1.0000\n",
      "Epoch 87/100\n",
      "23/23 [==============================] - 0s 608us/step - loss: 0.0035 - accuracy: 1.0000\n",
      "Epoch 88/100\n",
      "23/23 [==============================] - 0s 678us/step - loss: 0.0034 - accuracy: 1.0000\n",
      "Epoch 89/100\n",
      "23/23 [==============================] - 0s 652us/step - loss: 0.0033 - accuracy: 1.0000\n",
      "Epoch 90/100\n",
      "23/23 [==============================] - 0s 652us/step - loss: 0.0032 - accuracy: 1.0000\n",
      "Epoch 91/100\n",
      "23/23 [==============================] - 0s 695us/step - loss: 0.0031 - accuracy: 1.0000\n",
      "Epoch 92/100\n",
      "23/23 [==============================] - 0s 652us/step - loss: 0.0030 - accuracy: 1.0000\n",
      "Epoch 93/100\n",
      "23/23 [==============================] - 0s 696us/step - loss: 0.0029 - accuracy: 1.0000\n",
      "Epoch 94/100\n",
      "23/23 [==============================] - 0s 608us/step - loss: 0.0028 - accuracy: 1.0000\n",
      "Epoch 95/100\n",
      "23/23 [==============================] - 0s 565us/step - loss: 0.0028 - accuracy: 1.0000\n",
      "Epoch 96/100\n",
      "23/23 [==============================] - 0s 608us/step - loss: 0.0027 - accuracy: 1.0000\n",
      "Epoch 97/100\n",
      "23/23 [==============================] - 0s 652us/step - loss: 0.0026 - accuracy: 1.0000\n",
      "Epoch 98/100\n",
      "23/23 [==============================] - 0s 652us/step - loss: 0.0026 - accuracy: 1.0000\n",
      "Epoch 99/100\n",
      "23/23 [==============================] - 0s 652us/step - loss: 0.0025 - accuracy: 1.0000\n",
      "Epoch 100/100\n",
      "23/23 [==============================] - 0s 695us/step - loss: 0.0024 - accuracy: 1.0000\n"
     ]
    },
    {
     "data": {
      "text/plain": [
       "<tensorflow.python.keras.callbacks.History at 0x1c0960c33a0>"
      ]
     },
     "execution_count": 209,
     "metadata": {},
     "output_type": "execute_result"
    }
   ],
   "source": [
    "import tensorflow as tf\n",
    "from tensorflow import keras\n",
    "\n",
    "model = keras.Sequential([\n",
    "    keras.layers.Dense(20, input_shape =(9,), activation ='relu'),\n",
    "    keras.layers.Dense(1, activation='sigmoid'),\n",
    "])\n",
    "\n",
    "model.compile(optimizer = 'adam',\n",
    "             loss = 'binary_crossentropy',\n",
    "             metrics = ['accuracy'])\n",
    "\n",
    "model.fit(x_train, y_train, epochs = 100)"
   ]
  },
  {
   "cell_type": "code",
   "execution_count": 210,
   "id": "b0c85539",
   "metadata": {},
   "outputs": [
    {
     "name": "stdout",
     "output_type": "stream",
     "text": [
      "6/6 [==============================] - 0s 833us/step - loss: 0.0028 - accuracy: 1.0000\n"
     ]
    },
    {
     "data": {
      "text/plain": [
       "[0.0028130158316344023, 1.0]"
      ]
     },
     "execution_count": 210,
     "metadata": {},
     "output_type": "execute_result"
    }
   ],
   "source": [
    "model.evaluate(x_test, y_test)"
   ]
  },
  {
   "cell_type": "code",
   "execution_count": 211,
   "id": "5b701007",
   "metadata": {},
   "outputs": [
    {
     "data": {
      "text/plain": [
       "array([[9.9701959e-01],\n",
       "       [4.9912930e-04],\n",
       "       [2.3101270e-03],\n",
       "       [5.1608682e-03],\n",
       "       [7.7196956e-04]], dtype=float32)"
      ]
     },
     "execution_count": 211,
     "metadata": {},
     "output_type": "execute_result"
    }
   ],
   "source": [
    "yp = model.predict(x_test)\n",
    "yp[:5]"
   ]
  },
  {
   "cell_type": "code",
   "execution_count": 212,
   "id": "40bdf2da",
   "metadata": {},
   "outputs": [
    {
     "data": {
      "text/plain": [
       "633    1\n",
       "543    0\n",
       "641    0\n",
       "509    0\n",
       "30     0\n",
       "Name: Churns, dtype: int64"
      ]
     },
     "execution_count": 212,
     "metadata": {},
     "output_type": "execute_result"
    }
   ],
   "source": [
    "y_test[:5]"
   ]
  },
  {
   "cell_type": "code",
   "execution_count": 213,
   "id": "2070e288",
   "metadata": {},
   "outputs": [],
   "source": [
    "y_pred = []\n",
    "for element in yp:\n",
    "    if element >0.5:\n",
    "        y_pred.append(1)\n",
    "    else:\n",
    "        y_pred.append(0)"
   ]
  },
  {
   "cell_type": "code",
   "execution_count": 219,
   "id": "b5390c30",
   "metadata": {},
   "outputs": [
    {
     "data": {
      "text/plain": [
       "[1, 0, 0, 0, 0, 0, 0, 0, 0, 0]"
      ]
     },
     "execution_count": 219,
     "metadata": {},
     "output_type": "execute_result"
    }
   ],
   "source": [
    "y_pred[:10]"
   ]
  },
  {
   "cell_type": "code",
   "execution_count": 220,
   "id": "3d928223",
   "metadata": {},
   "outputs": [
    {
     "name": "stdout",
     "output_type": "stream",
     "text": [
      "              precision    recall  f1-score   support\n",
      "\n",
      "           0       1.00      1.00      1.00       136\n",
      "           1       1.00      1.00      1.00        43\n",
      "\n",
      "    accuracy                           1.00       179\n",
      "   macro avg       1.00      1.00      1.00       179\n",
      "weighted avg       1.00      1.00      1.00       179\n",
      "\n"
     ]
    }
   ],
   "source": [
    "from sklearn.metrics import confusion_matrix, classification_report\n",
    "print(classification_report(y_test,y_pred))"
   ]
  },
  {
   "cell_type": "code",
   "execution_count": 222,
   "id": "324d6c35",
   "metadata": {},
   "outputs": [
    {
     "data": {
      "text/plain": [
       "Text(69.0, 0.5, 'Truth')"
      ]
     },
     "execution_count": 222,
     "metadata": {},
     "output_type": "execute_result"
    },
    {
     "data": {
      "image/png": "[encoded data removed]",
      "text/plain": [
       "<Figure size 720x504 with 2 Axes>"
      ]
     },
     "metadata": {
      "needs_background": "light"
     },
     "output_type": "display_data"
    }
   ],
   "source": [
    "import seaborn as sn\n",
    "cm = tf.math.confusion_matrix(labels = y_test, predictions = y_pred)\n",
    "\n",
    "plt.figure(figsize = (10,7))\n",
    "sn.heatmap(cm, annot = True, fmt = 'd')\n",
    "plt.xlabel('Predicted')\n",
    "plt.ylabel('Truth')"
   ]
  },
  {
   "cell_type": "code",
   "execution_count": 223,
   "id": "78388cf1",
   "metadata": {},
   "outputs": [
    {
     "data": {
      "text/plain": [
       "(179,)"
      ]
     },
     "execution_count": 223,
     "metadata": {},
     "output_type": "execute_result"
    }
   ],
   "source": [
    "y_test.shape"
   ]
  },
  {
   "cell_type": "code",
   "execution_count": null,
   "id": "85c4b337",
   "metadata": {},
   "outputs": [],
   "source": []
  }
 ],
 "metadata": {
  "kernelspec": {
   "display_name": "Python 3",
   "language": "python",
   "name": "python3"
  },
  "language_info": {
   "codemirror_mode": {
    "name": "ipython",
    "version": 3
   },
   "file_extension": ".py",
   "mimetype": "text/x-python",
   "name": "python",
   "nbconvert_exporter": "python",
   "pygments_lexer": "ipython3",
   "version": "3.8.8"
  }
 },
 "nbformat": 4,
 "nbformat_minor": 5
}
